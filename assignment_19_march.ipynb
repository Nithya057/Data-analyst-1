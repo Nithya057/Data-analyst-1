{
  "nbformat": 4,
  "nbformat_minor": 0,
  "metadata": {
    "colab": {
      "provenance": [],
      "authorship_tag": "ABX9TyPP7Huwx19z+SOxZGsEnWXZ",
      "include_colab_link": true
    },
    "kernelspec": {
      "name": "python3",
      "display_name": "Python 3"
    },
    "language_info": {
      "name": "python"
    }
  },
  "cells": [
    {
      "cell_type": "markdown",
      "metadata": {
        "id": "view-in-github",
        "colab_type": "text"
      },
      "source": [
        "<a href=\"https://colab.research.google.com/github/Nare8128/data-analyst-intenship/blob/main/assignment_19_march.ipynb\" target=\"_parent\"><img src=\"https://colab.research.google.com/assets/colab-badge.svg\" alt=\"Open In Colab\"/></a>"
      ]
    },
    {
      "cell_type": "markdown",
      "source": [
        "1)\n",
        "''Wikipedia is a free onlineencyclopedia created and edited by volunteers around the world and hosted by the wikimedia foundation''. find the number of words given in given sentence"
      ],
      "metadata": {
        "id": "sHkqbJRGEE28"
      }
    },
    {
      "cell_type": "code",
      "source": [
        "sentence='Wikipedia is a free online encyclopedia created and edited by volunteers around the world and hosted by the Wikimedia Foundation'"
      ],
      "metadata": {
        "id": "RtYhgHMfVKuK"
      },
      "execution_count": 26,
      "outputs": []
    },
    {
      "cell_type": "code",
      "source": [
        "#calculate the total number of words in the sentence\n",
        "num_of_words=sentence.count('')+1"
      ],
      "metadata": {
        "id": "UnK16o4OEEW7"
      },
      "execution_count": 24,
      "outputs": []
    },
    {
      "cell_type": "code",
      "execution_count": 25,
      "metadata": {
        "colab": {
          "base_uri": "https://localhost:8080/"
        },
        "id": "TZEy1vzMD93p",
        "outputId": "02a96ebb-c095-47bb-8292-0d0deeea0576"
      },
      "outputs": [
        {
          "output_type": "execute_result",
          "data": {
            "text/plain": [
              "130"
            ]
          },
          "metadata": {},
          "execution_count": 25
        }
      ],
      "source": [
        "#print the variables num_of_words\n",
        "num_of_words"
      ]
    },
    {
      "cell_type": "markdown",
      "source": [
        "2)\n",
        "write a python code which takes a number and returns a corrsponding string of hyphens for example if the number is 3, it will return '---', if the number is 5 it will return '-----'."
      ],
      "metadata": {
        "id": "nFxxSX16W2T6"
      }
    },
    {
      "cell_type": "code",
      "source": [
        "#store the user input in a variable.\n",
        "inputted_number=int(input())"
      ],
      "metadata": {
        "colab": {
          "base_uri": "https://localhost:8080/"
        },
        "id": "fbx2WNaBYhaw",
        "outputId": "66ef8645-fc5a-4905-90ac-4f331739d40b"
      },
      "execution_count": 27,
      "outputs": [
        {
          "name": "stdout",
          "output_type": "stream",
          "text": [
            "8\n"
          ]
        }
      ]
    },
    {
      "cell_type": "code",
      "source": [
        "string_of_hyphens='-'*inputted_number\n",
        "print(string_of_hyphens)\n"
      ],
      "metadata": {
        "colab": {
          "base_uri": "https://localhost:8080/"
        },
        "id": "jXl2-RwuZ9BN",
        "outputId": "c72f6ef4-4e19-4a10-be83-0cf43dc6dc6a"
      },
      "execution_count": 49,
      "outputs": [
        {
          "output_type": "stream",
          "name": "stdout",
          "text": [
            "--------\n"
          ]
        }
      ]
    },
    {
      "cell_type": "markdown",
      "source": [
        "3)\n",
        "a string can be called a safe bridge if it has no gapsin it i.e,no spaces you are supposed to take an input from the user and print whether the string is safe bridge or not"
      ],
      "metadata": {
        "id": "6u_bVItda1Ii"
      }
    },
    {
      "cell_type": "code",
      "source": [
        "#store the user input in a variable\n",
        "bridge=input()"
      ],
      "metadata": {
        "colab": {
          "base_uri": "https://localhost:8080/"
        },
        "id": "_iaIuC7mbVUI",
        "outputId": "14a53a27-624b-4218-94ce-5a705a57da59"
      },
      "execution_count": 50,
      "outputs": [
        {
          "name": "stdout",
          "output_type": "stream",
          "text": [
            "iron man\n"
          ]
        }
      ]
    },
    {
      "cell_type": "code",
      "source": [
        "is_safe_bridge=bridge.find('')==-1"
      ],
      "metadata": {
        "id": "LsCz7wghbiur"
      },
      "execution_count": null,
      "outputs": []
    },
    {
      "cell_type": "code",
      "source": [
        "#fill in the blanks.\n",
        "print(f\"It is {is_safe_bridge} that the bridge is a safe bridge\")"
      ],
      "metadata": {
        "colab": {
          "base_uri": "https://localhost:8080/",
          "height": 158
        },
        "id": "2PLgwfFMb8m6",
        "outputId": "00be29b4-017c-4e13-c0a8-d58e35ee050b"
      },
      "execution_count": 51,
      "outputs": [
        {
          "output_type": "error",
          "ename": "NameError",
          "evalue": "name 'is_safe_bridge' is not defined",
          "traceback": [
            "\u001b[0;31m---------------------------------------------------------------------------\u001b[0m",
            "\u001b[0;31mNameError\u001b[0m                                 Traceback (most recent call last)",
            "\u001b[0;32m<ipython-input-51-60f2438394ac>\u001b[0m in \u001b[0;36m<cell line: 0>\u001b[0;34m()\u001b[0m\n\u001b[1;32m      1\u001b[0m \u001b[0;31m#fill in the blanks.\u001b[0m\u001b[0;34m\u001b[0m\u001b[0;34m\u001b[0m\u001b[0m\n\u001b[0;32m----> 2\u001b[0;31m \u001b[0mprint\u001b[0m\u001b[0;34m(\u001b[0m\u001b[0;34mf\"It is {is_safe_bridge} that the bridge is a safe bridge\"\u001b[0m\u001b[0;34m)\u001b[0m\u001b[0;34m\u001b[0m\u001b[0;34m\u001b[0m\u001b[0m\n\u001b[0m",
            "\u001b[0;31mNameError\u001b[0m: name 'is_safe_bridge' is not defined"
          ]
        }
      ]
    },
    {
      "cell_type": "code",
      "source": [
        "print(is_safe_bridge)"
      ],
      "metadata": {
        "colab": {
          "base_uri": "https://localhost:8080/",
          "height": 141
        },
        "id": "K9FK7NOicPl-",
        "outputId": "df334789-47aa-4cf9-ed82-cb3ab1e6e203"
      },
      "execution_count": 52,
      "outputs": [
        {
          "output_type": "error",
          "ename": "NameError",
          "evalue": "name 'is_safe_bridge' is not defined",
          "traceback": [
            "\u001b[0;31m---------------------------------------------------------------------------\u001b[0m",
            "\u001b[0;31mNameError\u001b[0m                                 Traceback (most recent call last)",
            "\u001b[0;32m<ipython-input-52-4e2578d3ada0>\u001b[0m in \u001b[0;36m<cell line: 0>\u001b[0;34m()\u001b[0m\n\u001b[0;32m----> 1\u001b[0;31m \u001b[0mprint\u001b[0m\u001b[0;34m(\u001b[0m\u001b[0mis_safe_bridge\u001b[0m\u001b[0;34m)\u001b[0m\u001b[0;34m\u001b[0m\u001b[0;34m\u001b[0m\u001b[0m\n\u001b[0m",
            "\u001b[0;31mNameError\u001b[0m: name 'is_safe_bridge' is not defined"
          ]
        }
      ]
    },
    {
      "cell_type": "markdown",
      "source": [
        "4)\n",
        "count the number of 'D' in a string inputted by the user.this will be case insensitive."
      ],
      "metadata": {
        "id": "v6vpg1dKcaD9"
      }
    },
    {
      "cell_type": "code",
      "source": [
        "#store the user input in a variable.\n",
        "user_string='Debris was scattered all over the yard in the densest region of Denmark'"
      ],
      "metadata": {
        "id": "6kb_CYu7c-cX"
      },
      "execution_count": 54,
      "outputs": []
    },
    {
      "cell_type": "code",
      "source": [
        "#store the count of letter d in the inputted string.\n",
        "d_counts=user_string.upper().count('d')"
      ],
      "metadata": {
        "id": "fhEj4spUdZLN"
      },
      "execution_count": 56,
      "outputs": []
    },
    {
      "cell_type": "code",
      "source": [
        "#fill in the blanks.\n",
        "print(f\"The total number of 'D' in the inputted string is {d_counts}\")"
      ],
      "metadata": {
        "colab": {
          "base_uri": "https://localhost:8080/"
        },
        "id": "nwCZ7EM0dtaq",
        "outputId": "3a875b0f-22c1-49d1-b192-a19afc7c38d5"
      },
      "execution_count": 57,
      "outputs": [
        {
          "output_type": "stream",
          "name": "stdout",
          "text": [
            "The total number of 'D' in the inputted string is 0\n"
          ]
        }
      ]
    },
    {
      "cell_type": "markdown",
      "source": [
        "5)\n",
        "check wheather a given string is a palindrome.palindrome is a word,number,phase,or other sequence of charater which reads the same backward as forward,such as madam,racecar.\n"
      ],
      "metadata": {
        "id": "QdnyFfNpeVp6"
      }
    },
    {
      "cell_type": "code",
      "source": [
        "#string the user input in a variable.\n",
        "user_string=input()"
      ],
      "metadata": {
        "colab": {
          "base_uri": "https://localhost:8080/"
        },
        "id": "bfq7a8Goe8pR",
        "outputId": "12ca14e5-59bf-4a1c-b995-37a2624bd2da"
      },
      "execution_count": 58,
      "outputs": [
        {
          "name": "stdout",
          "output_type": "stream",
          "text": [
            "variable\n"
          ]
        }
      ]
    },
    {
      "cell_type": "code",
      "source": [
        "#return true if a string is a palindrome else return false.\n",
        "user_string==user_string[::-1]"
      ],
      "metadata": {
        "colab": {
          "base_uri": "https://localhost:8080/"
        },
        "id": "zJ5SHVPtfKmf",
        "outputId": "f1e1005a-f0b0-4bab-9ba5-a5b8ecbeeabb"
      },
      "execution_count": 59,
      "outputs": [
        {
          "output_type": "execute_result",
          "data": {
            "text/plain": [
              "False"
            ]
          },
          "metadata": {},
          "execution_count": 59
        }
      ]
    }
  ]
}